{
 "cells": [
  {
   "cell_type": "code",
   "execution_count": 26,
   "metadata": {},
   "outputs": [],
   "source": [
    "from selenium import webdriver  #從library中引入webdriver\n",
    "from time import sleep\n",
    "from PIL import Image\n",
    "from io import BytesIO\n",
    "import urllib\n",
    "import os"
   ]
  },
  {
   "cell_type": "code",
   "execution_count": null,
   "metadata": {},
   "outputs": [],
   "source": []
  },
  {
   "cell_type": "markdown",
   "metadata": {
    "collapsed": true
   },
   "source": [
    "<img id=\"BookingS1Form_homeCaptcha_passCode\" align=\"absmiddle\" src=\"/IMINT/captImg/9jsWS9keKw.jpg\">\n",
    "<img id=\"BookingS1Form_homeCaptcha_passCode\" align=\"absmiddle\" src=\"/IMINT/captImg/1JHoKRygd5.jpg\">"
   ]
  },
  {
   "cell_type": "code",
   "execution_count": 27,
   "metadata": {},
   "outputs": [],
   "source": [
    "# set up some variable\n",
    "# start_url = \"http://railway.hinet.net/Foreign/TW/etkind1.html\"\n",
    "\n",
    "url = \"https://irs.thsrc.com.tw/IMINT/?locale=tw\"\n",
    "id = \"F129525019\"\n",
    "count = 831"
   ]
  },
  {
   "cell_type": "code",
   "execution_count": 28,
   "metadata": {},
   "outputs": [],
   "source": [
    "# open browser and make windows to max\n",
    "browser = webdriver.Chrome('./chromedriver.exe')   #開啟chrome browser\n",
    "browser.set_window_position(0,0)\n",
    "browser.set_window_size(1680,2169.800)\n",
    "browser.get(url)"
   ]
  },
  {
   "cell_type": "code",
   "execution_count": 29,
   "metadata": {},
   "outputs": [],
   "source": [
    "# 按下我確認按鈕\n",
    "browser.find_element_by_id(\"btn-confirm\").click()"
   ]
  },
  {
   "cell_type": "code",
   "execution_count": 30,
   "metadata": {},
   "outputs": [
    {
     "name": "stdout",
     "output_type": "stream",
     "text": [
      "https://irs.thsrc.com.tw/IMINT/captImg/nexszBKc3K.jpg\n"
     ]
    }
   ],
   "source": [
    "# \n",
    "captcha_img_element = browser.find_element_by_id(\"BookingS1Form_homeCaptcha_passCode\")\n",
    "img_url = captcha_img_element.get_attribute('src')\n",
    "print(img_url)\n",
    "\n",
    "# urllib.request.urlretrieve(img_url, os.path.join(local_path , filename))"
   ]
  },
  {
   "cell_type": "code",
   "execution_count": 31,
   "metadata": {},
   "outputs": [],
   "source": [
    "# create directory if not exsist\n",
    "# put image in < captcha-photos-remain > dir\n",
    "if not os.path.exists(\"captcha-save\"): \n",
    "    os.mkdir(\"captcha-save\")"
   ]
  },
  {
   "cell_type": "code",
   "execution_count": 32,
   "metadata": {},
   "outputs": [
    {
     "name": "stdout",
     "output_type": "stream",
     "text": [
      "https://irs.thsrc.com.tw/IMINT/captImg/nexszBKc3K.jpg\n",
      "{'x': 827, 'y': 538}\n",
      "{'height': 53, 'width': 138}\n"
     ]
    }
   ],
   "source": [
    "# get captcha img and get its size and location\n",
    "captcha_img_element = browser.find_element_by_id(\"BookingS1Form_homeCaptcha_passCode\")\n",
    "img_url = captcha_img_element.get_attribute('src')\n",
    "print(img_url)\n",
    "captcha_img_element_location = captcha_img_element.location\n",
    "print(captcha_img_element_location)\n",
    "captcha_img_element_size = captcha_img_element.size\n",
    "print(captcha_img_element_size)\n",
    "\n",
    "\n"
   ]
  },
  {
   "cell_type": "markdown",
   "metadata": {},
   "source": [
    "## python 實現獲取與下載網頁中圖片的四種方案\n",
    "https://www.twblogs.net/a/5d8c94cbbd9eee541c34b91c"
   ]
  },
  {
   "cell_type": "code",
   "execution_count": 33,
   "metadata": {},
   "outputs": [],
   "source": [
    "def save_img(file_name):\n",
    "    # change to image\n",
    "    captcha_img = browser.get_screenshot_as_png()\n",
    "    final_captcha_img = Image.open(BytesIO(captcha_img))\n",
    "\n",
    "    left = captcha_img_element_location['x']\n",
    "    top = captcha_img_element_location['y']\n",
    "    width = captcha_img_element_size['width']\n",
    "    height = captcha_img_element_size['height']\n",
    "\n",
    "    box = (left, top, left+width, top+height)\n",
    "    print(box)\n",
    "\n",
    "\n",
    "    # left, top, right, bottom\n",
    "    final_captcha_img = final_captcha_img.crop(box)\n",
    "    final_captcha_img.save('./第{}張圖片.png'.format(file_name)) "
   ]
  },
  {
   "cell_type": "code",
   "execution_count": 37,
   "metadata": {},
   "outputs": [
    {
     "name": "stdout",
     "output_type": "stream",
     "text": [
      "(827, 538, 965, 591)\n",
      "(827, 538, 965, 591)\n",
      "(827, 538, 965, 591)\n",
      "(827, 538, 965, 591)\n",
      "(827, 538, 965, 591)\n",
      "(827, 538, 965, 591)\n"
     ]
    },
    {
     "ename": "AttributeError",
     "evalue": "'NoneType' object has no attribute 'click'",
     "output_type": "error",
     "traceback": [
      "\u001b[1;31m---------------------------------------------------------------------------\u001b[0m",
      "\u001b[1;31mAttributeError\u001b[0m                            Traceback (most recent call last)",
      "\u001b[1;32m<ipython-input-37-c09d5accbca7>\u001b[0m in \u001b[0;36m<module>\u001b[1;34m\u001b[0m\n\u001b[0;32m      3\u001b[0m     \u001b[1;31m# find 「重新產生驗證碼」 button\u001b[0m\u001b[1;33m\u001b[0m\u001b[1;33m\u001b[0m\u001b[1;33m\u001b[0m\u001b[0m\n\u001b[0;32m      4\u001b[0m \u001b[1;31m#     browser.find_element_by_id(\"BookingS1Form_homeCaptcha_reCodeLink\").click()\u001b[0m\u001b[1;33m\u001b[0m\u001b[1;33m\u001b[0m\u001b[1;33m\u001b[0m\u001b[0m\n\u001b[1;32m----> 5\u001b[1;33m     \u001b[0mbrowser\u001b[0m\u001b[1;33m.\u001b[0m\u001b[0mfind_element_by_xpath\u001b[0m\u001b[1;33m(\u001b[0m\u001b[1;34m\"/html/body/div[2]/form/div[2]/div[3]/table/tbody/tr/td/a[1]\"\u001b[0m\u001b[1;33m)\u001b[0m\u001b[1;33m.\u001b[0m\u001b[0mclick\u001b[0m\u001b[1;33m(\u001b[0m\u001b[1;33m)\u001b[0m\u001b[1;33m\u001b[0m\u001b[1;33m\u001b[0m\u001b[0m\n\u001b[0m\u001b[0;32m      6\u001b[0m     \u001b[0msave_img\u001b[0m\u001b[1;33m(\u001b[0m\u001b[0mcount\u001b[0m\u001b[1;33m)\u001b[0m\u001b[1;33m\u001b[0m\u001b[1;33m\u001b[0m\u001b[0m\n\u001b[0;32m      7\u001b[0m \u001b[1;33m\u001b[0m\u001b[0m\n",
      "\u001b[1;31mAttributeError\u001b[0m: 'NoneType' object has no attribute 'click'"
     ]
    }
   ],
   "source": [
    "count = 1\n",
    "while(count<=100):\n",
    "    # find 「重新產生驗證碼」 button\n",
    "#     browser.find_element_by_id(\"BookingS1Form_homeCaptcha_reCodeLink\").click()\n",
    "    browser.find_element_by_xpath(\"/html/body/div[2]/form/div[2]/div[3]/table/tbody/tr/td/a[1]\").click()\n",
    "    save_img(count)\n",
    "\n",
    "    # sleep for few seconds\n",
    "    # in order to avoid block by google or soome kinds\n",
    "    sleep(5)\n",
    "    \n",
    "    # finish forloop\n",
    "    count = count + 1"
   ]
  },
  {
   "cell_type": "code",
   "execution_count": null,
   "metadata": {},
   "outputs": [],
   "source": []
  },
  {
   "cell_type": "code",
   "execution_count": null,
   "metadata": {},
   "outputs": [],
   "source": []
  }
 ],
 "metadata": {
  "kernelspec": {
   "display_name": "Python 3",
   "language": "python",
   "name": "python3"
  },
  "language_info": {
   "codemirror_mode": {
    "name": "ipython",
    "version": 3
   },
   "file_extension": ".py",
   "mimetype": "text/x-python",
   "name": "python",
   "nbconvert_exporter": "python",
   "pygments_lexer": "ipython3",
   "version": "3.6.10"
  },
  "varInspector": {
   "cols": {
    "lenName": 16,
    "lenType": 16,
    "lenVar": 40
   },
   "kernels_config": {
    "python": {
     "delete_cmd_postfix": "",
     "delete_cmd_prefix": "del ",
     "library": "var_list.py",
     "varRefreshCmd": "print(var_dic_list())"
    },
    "r": {
     "delete_cmd_postfix": ") ",
     "delete_cmd_prefix": "rm(",
     "library": "var_list.r",
     "varRefreshCmd": "cat(var_dic_list()) "
    }
   },
   "types_to_exclude": [
    "module",
    "function",
    "builtin_function_or_method",
    "instance",
    "_Feature"
   ],
   "window_display": false
  }
 },
 "nbformat": 4,
 "nbformat_minor": 4
}
